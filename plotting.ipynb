{
 "cells": [
  {
   "cell_type": "code",
   "execution_count": 1,
   "metadata": {
    "collapsed": false
   },
   "outputs": [
    {
     "name": "stdout",
     "output_type": "stream",
     "text": [
      "Populating the interactive namespace from numpy and matplotlib\n"
     ]
    }
   ],
   "source": [
    "%pylab inline"
   ]
  },
  {
   "cell_type": "code",
   "execution_count": 2,
   "metadata": {
    "collapsed": true
   },
   "outputs": [],
   "source": [
    "def H(n):\n",
    "\t\"\"\"Returns an approximate value of n-th harmonic number.\n",
    "\n",
    "\t   http://en.wikipedia.org/wiki/Harmonic_number\n",
    "\t\"\"\"\n",
    "\t# Euler-Mascheroni constant\n",
    "\tgamma = 0.57721566490153286060651209008240243104215933593992\n",
    "\treturn gamma + log(n) + 0.5/n - 1./(12*n**2) + 1./(120*n**4)\n"
   ]
  },
  {
   "cell_type": "code",
   "execution_count": 4,
   "metadata": {
    "collapsed": false
   },
   "outputs": [],
   "source": [
    "from json_to_csv import default_patterns, compile_from_json"
   ]
  },
  {
   "cell_type": "code",
   "execution_count": 9,
   "metadata": {
    "collapsed": true
   },
   "outputs": [],
   "source": [
    "patt = default_patterns[0][0]"
   ]
  },
  {
   "cell_type": "code",
   "execution_count": 11,
   "metadata": {
    "collapsed": false
   },
   "outputs": [],
   "source": [
    "df = compile_from_json(patt)"
   ]
  },
  {
   "cell_type": "code",
   "execution_count": 16,
   "metadata": {
    "collapsed": false
   },
   "outputs": [],
   "source": [
    "unique_eccentricities = np.unique(df['eccentricity'].ravel())"
   ]
  },
  {
   "cell_type": "code",
   "execution_count": 25,
   "metadata": {
    "collapsed": false,
    "scrolled": true
   },
   "outputs": [
    {
     "data": {
      "image/png": "[encoded data removed]",
      "text/plain": [
       "<matplotlib.figure.Figure at 0x10aa26310>"
      ]
     },
     "metadata": {},
     "output_type": "display_data"
    }
   ],
   "source": [
    "color = plt.cm.winter(np.linspace(0,1,len(df)))\n",
    "for ecc in unique_eccentricities:\n",
    "    subset = df[df['eccentricity']==ecc]\n",
    "    x = subset['area']\n",
    "    y = subset['S']\n",
    "    plt.plot(x,y, 'x', label='e='+str(ecc))\n",
    "    "
   ]
  },
  {
   "cell_type": "code",
   "execution_count": null,
   "metadata": {
    "collapsed": true
   },
   "outputs": [],
   "source": [
    "plt.figure()\n",
    "\n",
    "color = plt.cm.summer(np.linspace(0,1,len(parsed)))\n",
    "labels = []\n",
    "for index,item in enumerate( sorted( parsed.items() , key=lambda x: x[0] ) ):\n",
    "    ecc, obj = item\n",
    "    x = obj['areas']\n",
    "    y = obj['S']\n",
    "    labels.append('e='+str(ecc))\n",
    "\n",
    "    if marker:\n",
    "        plt.plot(x, y, 'x', color=color[index], label='e='+str(ecc), ms=6)\n",
    "    else:\n",
    "        plt.plot(x, y, color=color[index], label='e='+str(ecc))\n",
    "\n",
    "plt.legend(loc='upper center', bbox_to_anchor=(0.5, -0.5), fancybox=True, ncol=5)\n",
    "#         print sample['sample_size'], sample['E_of_pi']\n",
    "\n",
    "ax = plt.gca()\n",
    "\n",
    "if loglog:\n",
    "    ax.set_yscale('log')\n",
    "    ax.set_xscale('log')\n",
    "\n",
    "box = ax.get_position()\n",
    "ax.set_position([box.x0, box.y0 + box.height * 1,\n",
    "                 box.width, box.height * 1])\n",
    "\n",
    "plt.xlabel('Area')\n",
    "plt.ylabel('Segregating Sites, S')\n",
    "ll = 'Log-Log of ' if loglog else ''\n",
    "plt.title( ll + 'Segregating Sites vs Area')\n",
    "plt.savefig( file_name , format='png',  bbox_inches='tight')\n",
    "plt.clf()\n",
    "plt.cla()"
   ]
  }
 ],
 "metadata": {
  "kernelspec": {
   "display_name": "Python 2",
   "language": "python",
   "name": "python2"
  },
  "language_info": {
   "codemirror_mode": {
    "name": "ipython",
    "version": 2
   },
   "file_extension": ".py",
   "mimetype": "text/x-python",
   "name": "python",
   "nbconvert_exporter": "python",
   "pygments_lexer": "ipython2",
   "version": "2.7.10"
  }
 },
 "nbformat": 4,
 "nbformat_minor": 0
}
